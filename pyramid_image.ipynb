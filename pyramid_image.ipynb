{
 "cells": [
  {
   "cell_type": "code",
   "execution_count": 52,
   "id": "c0f5f1da",
   "metadata": {},
   "outputs": [],
   "source": [
    "import torch\n",
    "import torch.nn as nn\n",
    "from PIL import Image\n",
    "from torchvision import transforms\n",
    "import matplotlib.pyplot as plt"
   ]
  },
  {
   "cell_type": "code",
   "execution_count": 53,
   "id": "e97c0578",
   "metadata": {},
   "outputs": [],
   "source": [
    "dog_org = Image.open(\"examples/dog.jpg\")\n",
    "transform = transforms.Compose([\n",
    "    transforms.Resize(256),\n",
    "    transforms.CenterCrop(224),\n",
    "    transforms.ToTensor(),\n",
    "    transforms.Normalize(\n",
    "        mean=[0.485, 0.456, 0.406],\n",
    "        std=[0.229, 0.224, 0.225],\n",
    " )])\n",
    "dog = transform(dog_org)"
   ]
  },
  {
   "cell_type": "code",
   "execution_count": 165,
   "id": "cfaa968e",
   "metadata": {},
   "outputs": [],
   "source": [
    "import torch\n",
    "import numpy as np\n",
    "import torch.nn.functional as F\n",
    "from functools import partial\n",
    "\n",
    "\n",
    "def gaussian_kernel(size=5, channels=3, sigma=1):\n",
    "    ax = np.linspace(-(size - 1)/ 2., (size-1)/2., size)\n",
    "    xx, yy = np.meshgrid(ax, ax)\n",
    "    kernel = np.exp(-0.5 * (np.square(xx)+ np.square(yy)) / np.square(sigma))\n",
    "    kernel /= np.sum(kernel)\n",
    "    kernel_tensor = torch.as_tensor(kernel, dtype=torch.float)\n",
    "    kernel_tensor = kernel_tensor.repeat(channels, 1 , 1, 1)\n",
    "    return kernel_tensor\n",
    "\n",
    "def get_gaussian_blur_conv(kernel):\n",
    "    channels = kernel.shape[0]\n",
    "    padding = kernel.shape[-1] // 2\n",
    "    gaussian_blur = partial(F.conv2d, weight=kernel, stride=1, padding=padding, groups=channels)\n",
    "    return gaussian_blur\n",
    "\n",
    "\n",
    "class PyramidImageLayer(nn.Module):\n",
    "    def __init__(self, gaussian_size=5, init_sigma=1.6, pyramid_depth=3):\n",
    "        super().__init__()\n",
    "        self.weight = nn.Parameter(torch.rand((3, 224, 224), requires_grad=True))\n",
    "        self.org_shape = self.weight.shape\n",
    "        self.current_pyramid_level = 0\n",
    "        self.gaussian_size = gaussian_size\n",
    "        self.init_sigma = init_sigma\n",
    "        self.pyramid_depth = pyramid_depth\n",
    "        self.gaussian_blur = self._get_gaussian_blur()\n",
    "    \n",
    "    def _get_gaussian_blur(self):\n",
    "        sigma = self.init_sigma * (2**self.current_pyramid_level)\n",
    "        kernel = gaussian_kernel(size=self.gaussian_size, sigma=sigma)\n",
    "        gaussian_blur = get_gaussian_blur_conv(kernel)\n",
    "        return gaussian_blur\n",
    "        \n",
    "    def init_layer(self, image_batch):\n",
    "        self.weight.data = image_batch[0, ...]\n",
    "    \n",
    "    def forward(self):\n",
    "        return torch.unsqueeze(torch.mul(1, self.weight), 0)\n",
    "    \n",
    "    def go_pyramid(self):\n",
    "        if self.current_pyramid_level >= self.pyramid_depth:\n",
    "            return\n",
    "        img = self.weight.data\n",
    "        img_blurred = self.gaussian_blur(img)\n",
    "        img_downsampled = img_blurred[:, ::2, ::2]\n",
    "        self.weight = nn.Parameter(img_downsampled, requires_grad=True) # new parameters\n",
    "        self.current_pyramid_level += 1\n",
    "        self._get_gaussian_blur() # update gaussian blur function\n",
    "    "
   ]
  },
  {
   "cell_type": "code",
   "execution_count": 166,
   "id": "fa2d3e88",
   "metadata": {},
   "outputs": [
    {
     "name": "stdout",
     "output_type": "stream",
     "text": [
      "1.6\n"
     ]
    }
   ],
   "source": [
    "pyramid = PyramidImageLayer()\n",
    "pyramid.init_layer(torch.unsqueeze(dog, 0))"
   ]
  },
  {
   "cell_type": "code",
   "execution_count": 171,
   "id": "4a245086",
   "metadata": {},
   "outputs": [],
   "source": [
    "pyramid.go_pyramid()"
   ]
  },
  {
   "cell_type": "code",
   "execution_count": 164,
   "id": "b04c4b62",
   "metadata": {},
   "outputs": [
    {
     "name": "stderr",
     "output_type": "stream",
     "text": [
      "Clipping input data to the valid range for imshow with RGB data ([0..1] for floats or [0..255] for integers).\n"
     ]
    },
    {
     "data": {
      "text/plain": [
       "<matplotlib.image.AxesImage at 0x161592e1f60>"
      ]
     },
     "execution_count": 164,
     "metadata": {},
     "output_type": "execute_result"
    },
    {
     "data": {
      "image/png": "[encoded data removed]",
      "text/plain": [
       "<Figure size 640x480 with 1 Axes>"
      ]
     },
     "metadata": {},
     "output_type": "display_data"
    }
   ],
   "source": [
    "plt.imshow(pyramid.weight.detach().T)"
   ]
  },
  {
   "cell_type": "code",
   "execution_count": 119,
   "id": "79018863",
   "metadata": {},
   "outputs": [
    {
     "data": {
      "text/plain": [
       "torch.Size([3, 224, 224])"
      ]
     },
     "execution_count": 119,
     "metadata": {},
     "output_type": "execute_result"
    }
   ],
   "source": [
    "blurred.shape"
   ]
  },
  {
   "cell_type": "code",
   "execution_count": 116,
   "id": "046527ca",
   "metadata": {},
   "outputs": [
    {
     "data": {
      "text/plain": [
       "torch.Size([3, 224, 224])"
      ]
     },
     "execution_count": 116,
     "metadata": {},
     "output_type": "execute_result"
    }
   ],
   "source": [
    "blurred.shape"
   ]
  },
  {
   "cell_type": "code",
   "execution_count": null,
   "id": "b65159d0",
   "metadata": {},
   "outputs": [],
   "source": []
  }
 ],
 "metadata": {
  "kernelspec": {
   "display_name": "venv",
   "language": "python",
   "name": "venv"
  },
  "language_info": {
   "codemirror_mode": {
    "name": "ipython",
    "version": 3
   },
   "file_extension": ".py",
   "mimetype": "text/x-python",
   "name": "python",
   "nbconvert_exporter": "python",
   "pygments_lexer": "ipython3",
   "version": "3.10.11"
  }
 },
 "nbformat": 4,
 "nbformat_minor": 5
}
